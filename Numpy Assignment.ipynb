{
 "cells": [
  {
   "cell_type": "markdown",
   "id": "bc77cfb5-cb25-438b-ae2c-77e179c598b7",
   "metadata": {},
   "source": [
    "Consider the below code to answer further questions:\n",
    "\n",
    "import numpy as np\n",
    "\n",
    "list_ = [ ‘1’ , ’2’ , ‘3’ , ‘4’ , ‘5’ ]\n",
    "\n",
    "array_list = np.array(object = list_)"
   ]
  },
  {
   "cell_type": "markdown",
   "id": "5ea6ab73-5c97-48c4-bd19-80c33dacaae5",
   "metadata": {},
   "source": [
    "Q1. Is there any difference in the data type of variables list_ and array_list? If there is then write a code\n",
    "to print the data types of both the variables."
   ]
  },
  {
   "cell_type": "code",
   "execution_count": 1,
   "id": "7fbebcd7-413d-4cf0-9fc7-00c5e7e419ac",
   "metadata": {},
   "outputs": [],
   "source": [
    "import numpy as np\n",
    "\n",
    "list_ = ['1' ,'2' ,'3' ,'4' ,'5' ]\n",
    "\n",
    "array_list = np.array(object = list_)"
   ]
  },
  {
   "cell_type": "code",
   "execution_count": 2,
   "id": "12598026-a9b3-42e9-b5e4-153e350441a2",
   "metadata": {},
   "outputs": [
    {
     "name": "stdout",
     "output_type": "stream",
     "text": [
      "<class 'list'>\n",
      "<class 'numpy.ndarray'>\n"
     ]
    }
   ],
   "source": [
    "\n",
    "print(type(list_))\n",
    "\n",
    "print(type(array_list))"
   ]
  },
  {
   "cell_type": "markdown",
   "id": "8b28f8f8-4bd8-4093-90cc-83c8dacb106b",
   "metadata": {},
   "source": [
    "Q2. Write a code to print the data type of each and every element of both the variables list_ and\n",
    "arra_list."
   ]
  },
  {
   "cell_type": "code",
   "execution_count": 3,
   "id": "04981e48-f9d1-4b1b-ba3e-5bbb2c909daf",
   "metadata": {},
   "outputs": [
    {
     "name": "stdout",
     "output_type": "stream",
     "text": [
      "Every Element data type of list    :: \n",
      "\n",
      " 0 : <class 'int'>\n",
      " 1 : <class 'int'>\n",
      " 2 : <class 'int'>\n",
      " 3 : <class 'int'>\n",
      " 4 : <class 'int'>\n",
      "Every Element data type of arraylist    :: \n",
      "\n",
      " 0 : <class 'int'>\n",
      " 1 : <class 'int'>\n",
      " 2 : <class 'int'>\n",
      " 3 : <class 'int'>\n",
      " 4 : <class 'int'>\n"
     ]
    }
   ],
   "source": [
    "import numpy as np\n",
    "\n",
    "list_ = ['1' ,'2' ,'3' ,'4' ,'5' ]\n",
    "\n",
    "array_list = np.array(object = list_)\n",
    "\n",
    "print('Every Element data type of list    :: \\n')\n",
    "\n",
    "for i in range(len(list_)):\n",
    "    print(f' {i} : {type(i)}')\n",
    "\n",
    "print('Every Element data type of arraylist    :: \\n')\n",
    "\n",
    "for j in range(len(array_list)):\n",
    "    print(f' {j} : {type(j)}')"
   ]
  },
  {
   "cell_type": "markdown",
   "id": "ffadb375-37c3-4e54-abaf-79a90df881d8",
   "metadata": {},
   "source": [
    "Q3. Considering the following changes in the variable, array_list:\n",
    "\n",
    "array_list = np.array(object = list_, dtype = int)\n",
    "\n",
    "Will there be any difference in the data type of the elements present in both the variables, list_ and\n",
    "arra_list? If so then print the data types of each and every element present in both the variables, list_\n",
    "and arra_list."
   ]
  },
  {
   "cell_type": "code",
   "execution_count": 4,
   "id": "3dea1419-f7fc-4af4-9705-7f014c9d9cf5",
   "metadata": {},
   "outputs": [
    {
     "name": "stdout",
     "output_type": "stream",
     "text": [
      "Every Element data type of list    :: \n",
      "\n",
      " 0 : <class 'int'>\n",
      " 1 : <class 'int'>\n",
      " 2 : <class 'int'>\n",
      " 3 : <class 'int'>\n",
      " 4 : <class 'int'>\n",
      "Every Element data type of arraylist    :: \n",
      "\n",
      " 0 : <class 'int'>\n",
      " 1 : <class 'int'>\n",
      " 2 : <class 'int'>\n",
      " 3 : <class 'int'>\n",
      " 4 : <class 'int'>\n"
     ]
    }
   ],
   "source": [
    "import numpy as np\n",
    "\n",
    "list_ = ['1' ,'2' ,'3' ,'4' ,'5' ]\n",
    "\n",
    "arra_list = np.array(object = list_)\n",
    "\n",
    "if type(list_) != type(arra_list): \n",
    "    print('Every Element data type of list    :: \\n')\n",
    "\n",
    "    for i in range(len(list_)):\n",
    "        print(f' {i} : {type(i)}')\n",
    "\n",
    "    print('Every Element data type of arraylist    :: \\n')\n",
    "\n",
    "    for j in range(len(arra_list)):\n",
    "        print(f' {j} : {type(j)}')\n",
    "else:\n",
    "    print('list_ and arra_list are same datatype')"
   ]
  },
  {
   "cell_type": "markdown",
   "id": "2dc17a69-40f6-444c-9e69-26100eda46cf",
   "metadata": {},
   "source": [
    "Consider the below code to answer further questions:\n",
    "\n",
    "import numpy as np\n",
    "\n",
    "num_list = [ [ 1 , 2 , 3 ] , [ 4 , 5 , 6 ] ]\n",
    "\n",
    "num_array = np.array(object = num_list)"
   ]
  },
  {
   "cell_type": "markdown",
   "id": "93f239fc-20ae-4789-9784-e849f17af775",
   "metadata": {},
   "source": [
    "Q4. Write a code to find the following characteristics of variable, num_array:\n",
    "\n",
    "(i)\t shape\n",
    "\n",
    "(ii) size"
   ]
  },
  {
   "cell_type": "code",
   "execution_count": 5,
   "id": "952a9bad-c361-43d5-8bc4-236130702d64",
   "metadata": {},
   "outputs": [
    {
     "name": "stdout",
     "output_type": "stream",
     "text": [
      "(2, 3)\n"
     ]
    }
   ],
   "source": [
    "import numpy as np\n",
    "\n",
    "num_list = [ [ 1 , 2 , 3 ] , [ 4 , 5 , 6 ] ]\n",
    "\n",
    "num_array = np.array(object = num_list)\n",
    "\n",
    "# Shape is used for get  the dimensions of an array. \n",
    "print(num_array.shape)\n"
   ]
  },
  {
   "cell_type": "code",
   "execution_count": 6,
   "id": "1a30225c-a227-47b3-88e9-2dd3c8b6d0e8",
   "metadata": {},
   "outputs": [
    {
     "name": "stdout",
     "output_type": "stream",
     "text": [
      "6\n"
     ]
    }
   ],
   "source": [
    "import numpy as np\n",
    "\n",
    "num_list = [ [ 1 , 2 , 3 ] , [ 4 , 5 , 6 ] ]\n",
    "\n",
    "num_array = np.array(object = num_list)\n",
    "\n",
    "# size is used for get the size of an array or elements are present in the array. \n",
    "print(num_array.size)\n"
   ]
  },
  {
   "cell_type": "markdown",
   "id": "13d190ad-ba71-485e-8df9-d69f790cce8d",
   "metadata": {},
   "source": [
    "Q5. Write a code to create numpy array of 3*3 matrix containing zeros only, using a numpy array\n",
    "creation function.\n",
    "\n",
    "[Hint: The size of the array will be 9 and the shape will be (3,3).]"
   ]
  },
  {
   "cell_type": "code",
   "execution_count": 14,
   "id": "893fb36e-dd2d-42da-941c-5604b2c8b172",
   "metadata": {},
   "outputs": [
    {
     "name": "stdout",
     "output_type": "stream",
     "text": [
      "[[0. 0. 0.]\n",
      " [0. 0. 0.]\n",
      " [0. 0. 0.]]\n",
      "(3, 3)\n",
      "9\n"
     ]
    }
   ],
   "source": [
    "import numpy as np\n",
    "\n",
    "arr = np.zeros((3,3))\n",
    "print(arr)\n",
    "print(arr.shape)\n",
    "print(arr.size)"
   ]
  },
  {
   "cell_type": "markdown",
   "id": "716fd41a-adbc-4eec-95df-fc83853e2e31",
   "metadata": {},
   "source": [
    "Q6. Create an identity matrix of shape (5,5) using numpy functions?\n",
    "\n",
    "[Hint: An identity matrix is a matrix containing 1 diagonally and other elements will be 0.]"
   ]
  },
  {
   "cell_type": "code",
   "execution_count": 32,
   "id": "508a8912-a36b-4470-b745-00a8cdba15a1",
   "metadata": {},
   "outputs": [
    {
     "name": "stdout",
     "output_type": "stream",
     "text": [
      "[[1. 0. 0. 0. 0.]\n",
      " [0. 1. 0. 0. 0.]\n",
      " [0. 0. 1. 0. 0.]\n",
      " [0. 0. 0. 1. 0.]\n",
      " [0. 0. 0. 0. 1.]]\n",
      "(5, 5)\n"
     ]
    }
   ],
   "source": [
    "import numpy as np\n",
    "\n",
    "arr = np.identity(5, dtype=float)\n",
    "print(arr)\n",
    "\n",
    "print(arr.shape)"
   ]
  },
  {
   "cell_type": "code",
   "execution_count": null,
   "id": "f152d1d9-7eea-49e1-be39-54b1f384560a",
   "metadata": {},
   "outputs": [],
   "source": []
  }
 ],
 "metadata": {
  "kernelspec": {
   "display_name": "Python 3 (ipykernel)",
   "language": "python",
   "name": "python3"
  },
  "language_info": {
   "codemirror_mode": {
    "name": "ipython",
    "version": 3
   },
   "file_extension": ".py",
   "mimetype": "text/x-python",
   "name": "python",
   "nbconvert_exporter": "python",
   "pygments_lexer": "ipython3",
   "version": "3.10.8"
  }
 },
 "nbformat": 4,
 "nbformat_minor": 5
}
