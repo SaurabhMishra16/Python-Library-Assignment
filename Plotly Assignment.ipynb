{
 "cells": [
  {
   "cell_type": "markdown",
   "id": "731b83a8-371a-4289-9cec-ddff3fa484c2",
   "metadata": {},
   "source": [
    "Q1. Load the \"titanic\" dataset using the load_dataset function of seaborn. Use Plotly express to plot a\n",
    "scatter plot for age and fare columns in the titanic dataset."
   ]
  },
  {
   "cell_type": "code",
   "execution_count": null,
   "id": "d4f76ff0-7bbc-43ab-9fb6-961f087a7274",
   "metadata": {},
   "outputs": [],
   "source": [
    "import seaborn as sns\n",
    "#import plotly.graph_objects as go\n",
    "import plotly.express as px\n",
    "\n",
    "titanic = sns.load_dataset('titanic')\n",
    "#fig = go.Figure()\n",
    "#fig.add_trace(go.Scatter(x = titanic.age, y= titanic.fare, mode = 'markers'))\n",
    "#fig.show()\n",
    "px.scatter(x = titanic.age, y= titanic.fare)\n"
   ]
  },
  {
   "cell_type": "markdown",
   "id": "c6d465d7-3eff-49cf-bd49-6ec8c3b0f7ad",
   "metadata": {},
   "source": [
    "Q2. Using the tips dataset in the Plotly library, plot a box plot using Plotly express."
   ]
  },
  {
   "cell_type": "code",
   "execution_count": null,
   "id": "c31bf8da-93d2-45fc-a381-04eb9412a1e8",
   "metadata": {},
   "outputs": [],
   "source": [
    "import seaborn as sns\n",
    "#import plotly.graph_objects as go\n",
    "import plotly.express as px\n",
    "\n",
    "tips = sns.load_dataset('tips')\n",
    "px.box(tips, x = 'total_bill',y ='tip', title = 'Box Plot')\n"
   ]
  },
  {
   "cell_type": "markdown",
   "id": "ee4862aa-8d5b-4857-ad86-8b737477d81e",
   "metadata": {},
   "source": [
    "Q3. Using the tips dataset in the Plotly library, Plot a histogram for x= \"sex\" and y=\"total_bill\" column in\n",
    "the tips dataset. Also, use the \"smoker\" column with the pattern_shape parameter and the \"day\"\n",
    "column with the color parameter."
   ]
  },
  {
   "cell_type": "code",
   "execution_count": null,
   "id": "17b766e4-cd53-480d-aa2a-c23c4cacb00a",
   "metadata": {},
   "outputs": [],
   "source": [
    "import seaborn as sns\n",
    "import plotly.express as px\n",
    "\n",
    "tips = sns.load_dataset('tips')\n",
    "fig = px.histogram(tips, x='sex', y='total_bill', color='day', barmode='group',histfunc='count', nbins=10, title='Histogram')\n",
    "\n",
    "for trace in fig.data:\n",
    "    if 'smoker' in trace.name:\n",
    "        trace.marker.patterns = ['slash']\n",
    "fig.show()"
   ]
  },
  {
   "cell_type": "markdown",
   "id": "de9818d4-10c9-4670-856f-ef3dd4634576",
   "metadata": {},
   "source": [
    "Q4. Using the iris dataset in the Plotly library, Plot a scatter matrix plot, using the \"species\" column for\n",
    "the color parameter.\n",
    "\n",
    "Note: Use \"sepal_length\", \"sepal_width\", \"petal_length\", \"petal_width\" columns only with the\n",
    "dimensions parameter."
   ]
  },
  {
   "cell_type": "code",
   "execution_count": null,
   "id": "e7d9fc9a-1fde-4493-bf35-88d020cb1303",
   "metadata": {},
   "outputs": [],
   "source": [
    "import plotly.express as px\n",
    "import seaborn as sns\n",
    "iris = sns.load_dataset('iris')\n",
    "\n",
    "# Load the iris dataset from seaborn\n",
    "#data = px.data.iris()\n",
    "\n",
    "# Create the scatter matrix plot\n",
    "fig = px.scatter_matrix(iris,dimensions=[iris.sepal_length, iris.sepal_width, iris.petal_length, iris.petal_width],color=\"species\", title=\"Scatter Matrix Plot\")\n",
    "\n",
    "# Display the plot\n",
    "fig.show()\n"
   ]
  },
  {
   "cell_type": "markdown",
   "id": "cafc80a2-fafa-472b-9f76-c9d06397c9d7",
   "metadata": {},
   "source": [
    "Q5. What is Distplot? Using Plotly express, plot a distplot."
   ]
  },
  {
   "cell_type": "markdown",
   "id": "de41b4cd-1517-403a-b244-62b0945d2649",
   "metadata": {},
   "source": [
    "displot is a function in the Plotly Express library that allows you to create a variety of distribution plots, including histograms, kernel density plots, and rug plots. It is a convenient way to visualize the distribution of a single variable or compare the distributions of multiple variables.\n",
    "\n",
    "The distplot figure factory displays a combination of statistical representations of numerical data, such as histogram, kernel density estimation or normal curve, and rug plot.\n",
    "\n",
    "The distplot figure factory displays a combination of statistical representations of numerical data, such as histogram, kernel density estimation or normal curve, and rug plot.\n",
    "\n",
    "The distplot can be composed of all or any combination of the following 3 components −\n",
    "\n",
    "1. histogram\n",
    "2. curve: (a) kernel density estimation or (b) normal curve, and \n",
    "3. rug plot"
   ]
  },
  {
   "cell_type": "code",
   "execution_count": null,
   "id": "28c109d3-bf29-4b57-bac0-53dd7f4e320f",
   "metadata": {},
   "outputs": [],
   "source": [
    "import plotly.express as px\n",
    "df = px.data.tips()\n",
    "fig = px.histogram(df, x=\"total_bill\", y=\"tip\", color=\"sex\", marginal=\"rug\",\n",
    "                   hover_data=df.columns)\n",
    "fig.show()"
   ]
  },
  {
   "cell_type": "code",
   "execution_count": null,
   "id": "06708939-3831-4b70-b1e0-29258ad24ecf",
   "metadata": {},
   "outputs": [],
   "source": [
    "import plotly.express as px\n",
    "df = px.data.tips()\n",
    "fig = px.histogram(df, x=\"total_bill\", y=\"tip\", color=\"sex\",\n",
    "                   marginal=\"box\", # or violin, rug\n",
    "                   hover_data=df.columns)\n",
    "fig.show()"
   ]
  }
 ],
 "metadata": {
  "kernelspec": {
   "display_name": "Python 3 (ipykernel)",
   "language": "python",
   "name": "python3"
  },
  "language_info": {
   "codemirror_mode": {
    "name": "ipython",
    "version": 3
   },
   "file_extension": ".py",
   "mimetype": "text/x-python",
   "name": "python",
   "nbconvert_exporter": "python",
   "pygments_lexer": "ipython3",
   "version": "3.10.8"
  }
 },
 "nbformat": 4,
 "nbformat_minor": 5
}
