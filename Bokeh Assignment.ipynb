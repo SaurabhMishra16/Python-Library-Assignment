{
 "cells": [
  {
   "cell_type": "markdown",
   "id": "a6cf4838-24f7-4573-9366-b795d2ef17c9",
   "metadata": {},
   "source": [
    "Q1. How can you create a Bokeh plot using Python code?"
   ]
  },
  {
   "cell_type": "code",
   "execution_count": null,
   "id": "63d58caa-3603-4e16-9792-1678c7342595",
   "metadata": {},
   "outputs": [],
   "source": [
    "import bokeh.io\n",
    "import bokeh.plotting\n",
    "bokeh.io.output_notebook()\n",
    "from bokeh.plotting import figure,show,output_file\n",
    "\n",
    "output_file('test.html')\n",
    "\n",
    "x = [1,5,7,8,9]\n",
    "y = [5,8,7,2,5]\n",
    "p = figure(title = 'Scatter plot')\n",
    "p.scatter(x,y,fill_color = 'green', legend_label = 'Green Lable', size= 5)\n",
    "show(p)\n"
   ]
  },
  {
   "cell_type": "markdown",
   "id": "2005ad3f-e7d0-4c0b-b43b-4e75e34ff218",
   "metadata": {},
   "source": [
    "Q2. What are glyphs in Bokeh, and how can you add them to a Bokeh plot? Explain with an example."
   ]
  },
  {
   "cell_type": "markdown",
   "id": "dc00e9ec-53f6-4465-8ebd-8343af6ce85e",
   "metadata": {},
   "source": [
    "In Bokeh, glyphs are visual markers or symbols used to represent data points in a plot. They are the fundamental building blocks for creating visualizations. Glyphs allow you to encode data by mapping specific properties of the data points to visual attributes such as position, size, color, and shape.\n",
    "\n",
    "Bokeh provides a wide range of glyph types that can be used to represent different types of data. Some commonly used glyphs in Bokeh include:\n",
    "\n",
    "1. Circle: Represents data points as circles.\n",
    "\n",
    "2. Square: Represents data points as squares.\n",
    "\n",
    "3. Triangle: Represents data points as triangles.\n",
    "\n",
    "4. Line: Represents data as a series of connected line segments.\n",
    "\n",
    "5. Patch: Represents data as filled polygons.\n",
    "\n",
    "6. Image: Represents data as an image or raster.\n",
    "\n",
    "7. Wedge: Represents data as circular sectors."
   ]
  },
  {
   "cell_type": "code",
   "execution_count": null,
   "id": "918a7192-3345-46b5-9d46-1e075327bbe1",
   "metadata": {},
   "outputs": [],
   "source": [
    "#import bokeh\n",
    "import bokeh.io\n",
    "import bokeh.plotting\n",
    "bokeh.io.output_notebook()\n",
    "from bokeh.plotting import figure,show,output_file\n",
    "\n",
    "# Here we defined html file\n",
    "output_file('test.html')\n",
    "\n",
    "# Get some data in x a y variable for x axis and y axis\n",
    "x = [1,5,7,8,9]\n",
    "y = [5,8,7,2,5]\n",
    "# We define title \n",
    "p = figure(title = 'Scatter plot')\n",
    "# we defined some bokeh glyhps\n",
    "# line is one off the bokeh glyphs \n",
    "p.line(x,y)\n",
    "# show graph\n",
    "show(p)\n"
   ]
  },
  {
   "cell_type": "markdown",
   "id": "9d7b99b6-095e-4e9c-b689-ce21f86a2627",
   "metadata": {},
   "source": [
    "Q3. How can you customize the appearance of a Bokeh plot, including the axes, title, and legend?"
   ]
  },
  {
   "cell_type": "code",
   "execution_count": null,
   "id": "8477747b-e26d-473b-b4a6-7bf79cdcc331",
   "metadata": {},
   "outputs": [],
   "source": [
    "import bokeh.io\n",
    "import bokeh.plotting\n",
    "bokeh.io.output_notebook()\n",
    "from bokeh.plotting import figure, output_file, show\n",
    "from bokeh.sampledata.iris import flowers\n",
    "\n",
    "\n",
    "output_file('line.html')\n",
    "\n",
    "p = figure(title = 'test flower')\n",
    "#Customize Title font size,style and alignment\n",
    "p.title.text_font_size = '14pt'\n",
    "p.title.text_font_style = 'bold'\n",
    "p.title.align = 'center'\n",
    "\n",
    "\n",
    "p.xaxis.axis_label = 'x - axis'\n",
    "# Cutomize x axis\n",
    "p.xaxis.major_label_text_font_size = '12pt'\n",
    "p.xaxis.major_label_text_color = 'blue'\n",
    "\n",
    "p.yaxis.axis_label = 'y - axis'\n",
    "\n",
    "p.circle(flowers['petal_length'],flowers['petal_width'], size=10, color='red', legend_label='Data')\n",
    "\n",
    "# Cutomize legend\n",
    "p.legend.title = 'Legend Title'\n",
    "p.legend.label_text_font_size = '12pt'\n",
    "p.legend.label_text_font_style = 'italic'\n",
    "\n",
    "p.background_fill_color = 'lightgray'\n",
    "p.border_fill_color = 'white'\n",
    "\n",
    "\n",
    "show(p)"
   ]
  },
  {
   "cell_type": "markdown",
   "id": "761f2285-4381-43c6-a5b1-d654059866d0",
   "metadata": {},
   "source": [
    "Q4. What is a Bokeh server, and how can you use it to create interactive plots that can be updated in\n",
    "real time?"
   ]
  },
  {
   "cell_type": "markdown",
   "id": "6f300e1d-4592-4a02-8fc3-2a1655f392ad",
   "metadata": {},
   "source": [
    "he Bokeh server is a feature of the Bokeh library that allows you to create interactive web applications and dashboards with Python. It provides a way to deploy and serve Bokeh plots, visualizations, and widgets dynamically, enabling real-time updates and interactivity.\n",
    "\n",
    "When using the Bokeh server, you can define your plots and interactive components in Python code and host them on a server. The server can be run locally or deployed on a remote machine. The Bokeh server takes care of rendering and updating the plots on the client's web browser, allowing users to interact with the visualizations."
   ]
  },
  {
   "cell_type": "code",
   "execution_count": null,
   "id": "c1b9a80b-df07-4fe5-b794-a9d63f5c6c5b",
   "metadata": {},
   "outputs": [],
   "source": [
    "from bokeh.plotting import figure, curdoc\n",
    "from bokeh.models import ColumnDataSource\n",
    "\n",
    "def update_data():\n",
    "    # Generate new data\n",
    "    new_data = dict(x=[7, 8, 9], y=[2, 3, 4])\n",
    "\n",
    "    # Update the data source with new data\n",
    "    source.data = new_data\n",
    "\n",
    "\n",
    "\n",
    "# Create a figure\n",
    "p = figure(x_range=(0, 10), y_range=(0, 10))\n",
    "\n",
    "# Add glyphs to the figure\n",
    "source = ColumnDataSource(data=dict(x=[1, 2, 3], y=[4, 5, 6]))\n",
    "p.circle(x='x', y='y', size=10, color='blue', source=source)\n",
    "\n",
    "# Set up the Bokeh server\n",
    "curdoc().add_root(p)\n",
    "\n",
    "# Add the callback function to update the plot\n",
    "curdoc().add_periodic_callback(update_data, 1000)  # Updates every 1 second\n",
    "\n"
   ]
  },
  {
   "cell_type": "markdown",
   "id": "d1ae715b-1357-4cb0-91fb-ba1d50a4838b",
   "metadata": {},
   "source": [
    "Q5. How can you embed a Bokeh plot into a web page or dashboard using Flask or Django?"
   ]
  },
  {
   "cell_type": "markdown",
   "id": "34f5eea6-64e1-4f94-8861-d29e47caaf83",
   "metadata": {},
   "source": [
    "Create a Bokeh plot: Use the Bokeh library to create the desired plot in Python, just as you would for any Bokeh plot."
   ]
  },
  {
   "cell_type": "code",
   "execution_count": null,
   "id": "76b69b19-04fc-48fd-8496-63c76765a248",
   "metadata": {},
   "outputs": [],
   "source": [
    "from bokeh.plotting import figure\n",
    "from bokeh.embed import components\n",
    "\n",
    "# Create a Bokeh plot\n",
    "p = figure(...)\n",
    "p.circle(...)\n"
   ]
  },
  {
   "cell_type": "markdown",
   "id": "3bb91ccb-a258-4fcd-a9b3-711c1cec642f",
   "metadata": {},
   "source": [
    "Generate the plot components: Use the components() function from Bokeh's embed module to generate the necessary HTML and JavaScript components for embedding the plot."
   ]
  },
  {
   "cell_type": "code",
   "execution_count": null,
   "id": "e49886ab-3c7e-477b-9b0e-f1ed93ef9b74",
   "metadata": {},
   "outputs": [],
   "source": [
    "# Generate plot components\n",
    "script, div = components(p)"
   ]
  },
  {
   "cell_type": "markdown",
   "id": "2595c1f2-1cc2-4dff-ac54-960f0cabca1b",
   "metadata": {},
   "source": [
    "1. Set up your web framework: Initialize and configure your chosen web framework (Flask or Django) to serve the web page or dashboard. Set up routes, views, and templates as appropriate for your specific framework.\n",
    "\n",
    "2. Pass the plot components to the template: In your web framework, pass the generated script and div components to the HTML template where you want to embed the plot."
   ]
  },
  {
   "cell_type": "code",
   "execution_count": null,
   "id": "56efbdec-05a2-4983-8116-762a38e59192",
   "metadata": {},
   "outputs": [],
   "source": [
    "# Flask Example\n",
    "from flask import Flask, render_template\n",
    "\n",
    "app = Flask(__name__)\n",
    "\n",
    "@app.route('/')\n",
    "def index():\n",
    "    # Pass plot components to template\n",
    "    return render_template('index.html', script=script, div=div)\n"
   ]
  },
  {
   "cell_type": "code",
   "execution_count": null,
   "id": "ed0c10c0-c110-4c6c-a0a0-0792dca38148",
   "metadata": {},
   "outputs": [],
   "source": [
    "#Django Example\n",
    "from django.shortcuts import render\n",
    "\n",
    "def index(request):\n",
    "    # Pass plot components to template\n",
    "    return render(request, 'index.html', {'script': script, 'div': div})\n"
   ]
  },
  {
   "cell_type": "markdown",
   "id": "ff3f5f2d-3df7-4f3b-8e15-f280e5861605",
   "metadata": {},
   "source": [
    "Create an HTML template: In your web framework, create an HTML template that will receive the plot components and render the plot."
   ]
  },
  {
   "cell_type": "markdown",
   "id": "b27c1c7e-3475-4775-b777-c4fc4a9b5b57",
   "metadata": {},
   "source": [
    "index.html"
   ]
  },
  {
   "cell_type": "code",
   "execution_count": null,
   "id": "c6094bb0-811f-44d0-8657-eeac3f70adc6",
   "metadata": {},
   "outputs": [],
   "source": [
    "<!DOCTYPE html>\n",
    "<html>\n",
    "<head>\n",
    "    <title>Bokeh Plot</title>\n",
    "    {{ script|safe }}\n",
    "</head>\n",
    "<body>\n",
    "    <h1>My Bokeh Plot</h1>\n",
    "    {{ div|safe }}\n",
    "</body>\n",
    "</html>\n"
   ]
  },
  {
   "cell_type": "code",
   "execution_count": null,
   "id": "042800ae-89be-49b7-be40-4168fd071600",
   "metadata": {},
   "outputs": [],
   "source": []
  }
 ],
 "metadata": {
  "kernelspec": {
   "display_name": "Python 3 (ipykernel)",
   "language": "python",
   "name": "python3"
  },
  "language_info": {
   "codemirror_mode": {
    "name": "ipython",
    "version": 3
   },
   "file_extension": ".py",
   "mimetype": "text/x-python",
   "name": "python",
   "nbconvert_exporter": "python",
   "pygments_lexer": "ipython3",
   "version": "3.10.8"
  }
 },
 "nbformat": 4,
 "nbformat_minor": 5
}
